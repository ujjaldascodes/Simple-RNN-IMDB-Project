{
 "cells": [
  {
   "cell_type": "code",
   "execution_count": 2,
   "metadata": {},
   "outputs": [],
   "source": [
    "# Step 1: Import Libraries and Load the Model\n",
    "import numpy as np\n",
    "import tensorflow as tf\n",
    "from tensorflow.keras.datasets import imdb\n",
    "from tensorflow.keras.preprocessing import sequence\n",
    "from tensorflow.keras.models import load_model"
   ]
  },
  {
   "cell_type": "code",
   "execution_count": 3,
   "metadata": {},
   "outputs": [],
   "source": [
    "\n",
    "# Load the IMDB dataset word index\n",
    "word_index = imdb.get_word_index()\n",
    "reverse_word_index = {value: key for key, value in word_index.items()}"
   ]
  },
  {
   "cell_type": "code",
   "execution_count": 4,
   "metadata": {},
   "outputs": [
    {
     "name": "stderr",
     "output_type": "stream",
     "text": [
      "WARNING:absl:Compiled the loaded model, but the compiled metrics have yet to be built. `model.compile_metrics` will be empty until you train or evaluate the model.\n"
     ]
    },
    {
     "data": {
      "text/html": [
       "<pre style=\"white-space:pre;overflow-x:auto;line-height:normal;font-family:Menlo,'DejaVu Sans Mono',consolas,'Courier New',monospace\"><span style=\"font-weight: bold\">Model: \"sequential\"</span>\n",
       "</pre>\n"
      ],
      "text/plain": [
       "\u001b[1mModel: \"sequential\"\u001b[0m\n"
      ]
     },
     "metadata": {},
     "output_type": "display_data"
    },
    {
     "data": {
      "text/html": [
       "<pre style=\"white-space:pre;overflow-x:auto;line-height:normal;font-family:Menlo,'DejaVu Sans Mono',consolas,'Courier New',monospace\">┏━━━━━━━━━━━━━━━━━━━━━━━━━━━━━━━━━┳━━━━━━━━━━━━━━━━━━━━━━━━┳━━━━━━━━━━━━━━━┓\n",
       "┃<span style=\"font-weight: bold\"> Layer (type)                    </span>┃<span style=\"font-weight: bold\"> Output Shape           </span>┃<span style=\"font-weight: bold\">       Param # </span>┃\n",
       "┡━━━━━━━━━━━━━━━━━━━━━━━━━━━━━━━━━╇━━━━━━━━━━━━━━━━━━━━━━━━╇━━━━━━━━━━━━━━━┩\n",
       "│ embedding (<span style=\"color: #0087ff; text-decoration-color: #0087ff\">Embedding</span>)           │ (<span style=\"color: #00af00; text-decoration-color: #00af00\">32</span>, <span style=\"color: #00af00; text-decoration-color: #00af00\">500</span>, <span style=\"color: #00af00; text-decoration-color: #00af00\">128</span>)         │     <span style=\"color: #00af00; text-decoration-color: #00af00\">1,280,000</span> │\n",
       "├─────────────────────────────────┼────────────────────────┼───────────────┤\n",
       "│ simple_rnn (<span style=\"color: #0087ff; text-decoration-color: #0087ff\">SimpleRNN</span>)          │ (<span style=\"color: #00af00; text-decoration-color: #00af00\">32</span>, <span style=\"color: #00af00; text-decoration-color: #00af00\">128</span>)              │        <span style=\"color: #00af00; text-decoration-color: #00af00\">32,896</span> │\n",
       "├─────────────────────────────────┼────────────────────────┼───────────────┤\n",
       "│ dense (<span style=\"color: #0087ff; text-decoration-color: #0087ff\">Dense</span>)                   │ (<span style=\"color: #00af00; text-decoration-color: #00af00\">32</span>, <span style=\"color: #00af00; text-decoration-color: #00af00\">1</span>)                │           <span style=\"color: #00af00; text-decoration-color: #00af00\">129</span> │\n",
       "└─────────────────────────────────┴────────────────────────┴───────────────┘\n",
       "</pre>\n"
      ],
      "text/plain": [
       "┏━━━━━━━━━━━━━━━━━━━━━━━━━━━━━━━━━┳━━━━━━━━━━━━━━━━━━━━━━━━┳━━━━━━━━━━━━━━━┓\n",
       "┃\u001b[1m \u001b[0m\u001b[1mLayer (type)                   \u001b[0m\u001b[1m \u001b[0m┃\u001b[1m \u001b[0m\u001b[1mOutput Shape          \u001b[0m\u001b[1m \u001b[0m┃\u001b[1m \u001b[0m\u001b[1m      Param #\u001b[0m\u001b[1m \u001b[0m┃\n",
       "┡━━━━━━━━━━━━━━━━━━━━━━━━━━━━━━━━━╇━━━━━━━━━━━━━━━━━━━━━━━━╇━━━━━━━━━━━━━━━┩\n",
       "│ embedding (\u001b[38;5;33mEmbedding\u001b[0m)           │ (\u001b[38;5;34m32\u001b[0m, \u001b[38;5;34m500\u001b[0m, \u001b[38;5;34m128\u001b[0m)         │     \u001b[38;5;34m1,280,000\u001b[0m │\n",
       "├─────────────────────────────────┼────────────────────────┼───────────────┤\n",
       "│ simple_rnn (\u001b[38;5;33mSimpleRNN\u001b[0m)          │ (\u001b[38;5;34m32\u001b[0m, \u001b[38;5;34m128\u001b[0m)              │        \u001b[38;5;34m32,896\u001b[0m │\n",
       "├─────────────────────────────────┼────────────────────────┼───────────────┤\n",
       "│ dense (\u001b[38;5;33mDense\u001b[0m)                   │ (\u001b[38;5;34m32\u001b[0m, \u001b[38;5;34m1\u001b[0m)                │           \u001b[38;5;34m129\u001b[0m │\n",
       "└─────────────────────────────────┴────────────────────────┴───────────────┘\n"
      ]
     },
     "metadata": {},
     "output_type": "display_data"
    },
    {
     "data": {
      "text/html": [
       "<pre style=\"white-space:pre;overflow-x:auto;line-height:normal;font-family:Menlo,'DejaVu Sans Mono',consolas,'Courier New',monospace\"><span style=\"font-weight: bold\"> Total params: </span><span style=\"color: #00af00; text-decoration-color: #00af00\">1,313,027</span> (5.01 MB)\n",
       "</pre>\n"
      ],
      "text/plain": [
       "\u001b[1m Total params: \u001b[0m\u001b[38;5;34m1,313,027\u001b[0m (5.01 MB)\n"
      ]
     },
     "metadata": {},
     "output_type": "display_data"
    },
    {
     "data": {
      "text/html": [
       "<pre style=\"white-space:pre;overflow-x:auto;line-height:normal;font-family:Menlo,'DejaVu Sans Mono',consolas,'Courier New',monospace\"><span style=\"font-weight: bold\"> Trainable params: </span><span style=\"color: #00af00; text-decoration-color: #00af00\">1,313,025</span> (5.01 MB)\n",
       "</pre>\n"
      ],
      "text/plain": [
       "\u001b[1m Trainable params: \u001b[0m\u001b[38;5;34m1,313,025\u001b[0m (5.01 MB)\n"
      ]
     },
     "metadata": {},
     "output_type": "display_data"
    },
    {
     "data": {
      "text/html": [
       "<pre style=\"white-space:pre;overflow-x:auto;line-height:normal;font-family:Menlo,'DejaVu Sans Mono',consolas,'Courier New',monospace\"><span style=\"font-weight: bold\"> Non-trainable params: </span><span style=\"color: #00af00; text-decoration-color: #00af00\">0</span> (0.00 B)\n",
       "</pre>\n"
      ],
      "text/plain": [
       "\u001b[1m Non-trainable params: \u001b[0m\u001b[38;5;34m0\u001b[0m (0.00 B)\n"
      ]
     },
     "metadata": {},
     "output_type": "display_data"
    },
    {
     "data": {
      "text/html": [
       "<pre style=\"white-space:pre;overflow-x:auto;line-height:normal;font-family:Menlo,'DejaVu Sans Mono',consolas,'Courier New',monospace\"><span style=\"font-weight: bold\"> Optimizer params: </span><span style=\"color: #00af00; text-decoration-color: #00af00\">2</span> (12.00 B)\n",
       "</pre>\n"
      ],
      "text/plain": [
       "\u001b[1m Optimizer params: \u001b[0m\u001b[38;5;34m2\u001b[0m (12.00 B)\n"
      ]
     },
     "metadata": {},
     "output_type": "display_data"
    }
   ],
   "source": [
    "# Load the pre-trained model with ReLU activation\n",
    "model = load_model('simple_rnn_imdb.h5')\n",
    "model.summary()"
   ]
  },
  {
   "cell_type": "code",
   "execution_count": 5,
   "metadata": {},
   "outputs": [
    {
     "data": {
      "text/plain": [
       "[array([[ 0.31372827,  0.24618092, -0.25347742, ...,  0.30541977,\n",
       "          0.27184105, -0.20280655],\n",
       "        [ 0.02345066, -0.00604972,  0.03211784, ..., -0.03197639,\n",
       "         -0.01943065, -0.01042123],\n",
       "        [-0.01547173,  0.03003948,  0.00427678, ...,  0.07225953,\n",
       "         -0.01441612, -0.03580609],\n",
       "        ...,\n",
       "        [ 0.0685978 ,  0.08903594,  0.05752472, ...,  0.03242864,\n",
       "         -0.04789318,  0.01266951],\n",
       "        [ 0.08363535, -0.08290089, -0.06696225, ...,  0.06232676,\n",
       "          0.06317602,  0.06927446],\n",
       "        [-0.06125823, -0.11643925, -0.0180541 , ...,  0.00425945,\n",
       "          0.10259049,  0.06135832]], shape=(10000, 128), dtype=float32),\n",
       " array([[-0.14391991, -0.03396081, -0.1018394 , ...,  0.09084948,\n",
       "          0.01340066,  0.08076795],\n",
       "        [-0.1541421 ,  0.10911585, -0.21297611, ..., -0.11398496,\n",
       "          0.10734157,  0.03264888],\n",
       "        [ 0.17463861, -0.00162985, -0.07053991, ...,  0.11748219,\n",
       "          0.10738283, -0.11982552],\n",
       "        ...,\n",
       "        [ 0.00582421,  0.01536947, -0.06957463, ..., -0.14047039,\n",
       "         -0.02147717, -0.10340755],\n",
       "        [ 0.04431024, -0.12268849,  0.12484631, ...,  0.04110704,\n",
       "          0.02718306, -0.07147852],\n",
       "        [-0.00493565, -0.10712188,  0.16122168, ..., -0.10598518,\n",
       "          0.01525825,  0.09135874]], shape=(128, 128), dtype=float32),\n",
       " array([[ 0.06258661,  0.06607721,  0.02444051, ...,  0.07583821,\n",
       "         -0.01157918,  0.00705403],\n",
       "        [ 0.05127237,  0.05014122,  0.11626127, ..., -0.0310345 ,\n",
       "         -0.13427123,  0.01733669],\n",
       "        [ 0.04065159, -0.14313246, -0.07862316, ...,  0.09719681,\n",
       "         -0.13795543, -0.09329805],\n",
       "        ...,\n",
       "        [ 0.09761363,  0.13484573,  0.1113089 , ..., -0.00833129,\n",
       "         -0.09328695,  0.01121191],\n",
       "        [ 0.02435055,  0.00833133, -0.21619427, ..., -0.00373798,\n",
       "         -0.07682913,  0.07677221],\n",
       "        [ 0.02193684,  0.05216136, -0.02897403, ...,  0.09440312,\n",
       "         -0.00256578,  0.02930028]], shape=(128, 128), dtype=float32),\n",
       " array([ 1.73913669e-02, -2.04702001e-02, -2.14026533e-02, -7.17073819e-03,\n",
       "         1.02362204e-02, -4.63480800e-02,  2.53267549e-02, -4.45503406e-02,\n",
       "         2.90256068e-02, -1.87997781e-02, -3.42563465e-02, -1.65999047e-02,\n",
       "        -1.07105691e-02, -7.50802318e-03, -1.99998897e-02, -2.79168822e-02,\n",
       "        -1.67025831e-02, -6.60513481e-03, -3.40466062e-03, -1.66592225e-02,\n",
       "        -2.45601740e-02,  3.28819975e-02, -2.29923967e-02, -1.97255332e-02,\n",
       "         1.18359951e-02,  1.82427093e-02,  8.41733068e-03, -6.75365189e-03,\n",
       "         2.44054594e-04,  4.91252961e-03, -1.11561129e-02, -1.63009278e-02,\n",
       "        -1.54200299e-02, -1.47020286e-02, -8.19258392e-03, -7.79765379e-03,\n",
       "         2.58154265e-04,  2.70111933e-02, -1.10411933e-02, -2.17682868e-02,\n",
       "         2.64096627e-04, -1.07982261e-02, -3.04134861e-02, -6.40713796e-03,\n",
       "        -1.31487744e-02, -5.53297848e-02, -8.74643028e-03, -1.79694965e-02,\n",
       "        -2.24664086e-03, -4.31701615e-02, -8.05702154e-03,  1.67464081e-03,\n",
       "        -1.05861174e-02, -4.33550123e-03,  1.34141732e-03, -2.35741846e-02,\n",
       "         9.92779713e-03,  3.34090441e-02,  5.97335026e-03, -1.69050675e-02,\n",
       "        -4.93808417e-03, -1.17433723e-02,  5.92787517e-03,  3.75809073e-02,\n",
       "        -8.82139988e-03, -1.20651135e-02, -2.63181105e-02, -1.15873562e-02,\n",
       "        -2.10473966e-03, -3.91711965e-02,  3.74282157e-04,  1.44545361e-03,\n",
       "        -1.48469331e-02,  5.04696406e-02, -5.54221729e-03, -4.20129159e-03,\n",
       "        -2.55910913e-03, -1.87998787e-02, -1.87158752e-02, -6.09347457e-03,\n",
       "        -2.03707684e-02,  1.39416037e-02, -1.38695037e-03, -8.69190134e-03,\n",
       "        -1.00888517e-02, -2.56167762e-02,  1.22934207e-02, -5.08852136e-05,\n",
       "         6.98013650e-03, -1.34183187e-02, -1.14085786e-02,  4.73565646e-02,\n",
       "        -6.65780436e-03, -2.44004317e-02, -1.42753990e-02, -1.00272836e-03,\n",
       "         4.21625236e-03,  4.34968155e-03,  5.11883162e-02, -5.37332445e-02,\n",
       "        -6.63284445e-03,  2.29177698e-02, -1.60767622e-02, -7.13965017e-03,\n",
       "        -2.73659453e-03,  4.83158566e-02, -1.32270167e-02,  1.39562716e-03,\n",
       "         3.44711356e-03, -1.86321698e-02, -2.35394314e-02,  2.11853208e-03,\n",
       "        -4.37285267e-02, -1.56245250e-02, -7.23237405e-03,  5.51992888e-03,\n",
       "        -1.80618931e-02, -3.96482646e-03, -1.59589425e-02, -1.76895522e-02,\n",
       "         4.98838769e-03, -2.20446195e-02, -5.61556267e-03, -1.65759195e-02,\n",
       "        -4.78946744e-03, -9.59524419e-03,  1.64063349e-02, -5.65979956e-03],\n",
       "       dtype=float32),\n",
       " array([[-1.68434906e+00],\n",
       "        [-1.06748307e+00],\n",
       "        [-2.03211531e-01],\n",
       "        [ 1.68668762e-01],\n",
       "        [ 1.17549054e-01],\n",
       "        [-8.75994861e-01],\n",
       "        [ 1.42223701e-01],\n",
       "        [ 1.54152438e-01],\n",
       "        [ 1.97749883e-01],\n",
       "        [ 1.21566147e-01],\n",
       "        [-5.45684174e-02],\n",
       "        [-5.07540256e-02],\n",
       "        [ 1.89922243e-01],\n",
       "        [-1.67064175e-01],\n",
       "        [ 1.48315251e-01],\n",
       "        [ 2.64431932e-04],\n",
       "        [-5.52805178e-02],\n",
       "        [-1.53042302e-01],\n",
       "        [-2.29532599e-01],\n",
       "        [-1.77542835e-01],\n",
       "        [-2.04576746e-01],\n",
       "        [ 2.05320433e-01],\n",
       "        [ 1.82700396e-01],\n",
       "        [ 1.58012927e-01],\n",
       "        [ 1.94271188e-02],\n",
       "        [ 7.84362480e-02],\n",
       "        [-3.71314049e-01],\n",
       "        [-1.86064363e-01],\n",
       "        [-1.47730196e+00],\n",
       "        [ 1.19143330e-01],\n",
       "        [-2.01377505e-03],\n",
       "        [-1.22495651e-01],\n",
       "        [-1.89396441e-01],\n",
       "        [-9.23065469e-02],\n",
       "        [ 7.64953345e-02],\n",
       "        [-5.28479852e-02],\n",
       "        [-1.25409591e+00],\n",
       "        [-5.56994751e-02],\n",
       "        [-1.07283920e-01],\n",
       "        [-8.68947729e-02],\n",
       "        [-1.77529659e-02],\n",
       "        [ 1.11729950e-02],\n",
       "        [ 1.37383890e+00],\n",
       "        [-2.25261539e-01],\n",
       "        [-2.60940497e-03],\n",
       "        [ 1.11568809e-01],\n",
       "        [ 1.53800890e-01],\n",
       "        [ 2.30586186e-01],\n",
       "        [-3.35926771e-01],\n",
       "        [ 2.33927861e-01],\n",
       "        [-1.00169308e-01],\n",
       "        [ 3.64867300e-02],\n",
       "        [-7.11835086e-01],\n",
       "        [ 1.57826059e-02],\n",
       "        [-1.05206631e-01],\n",
       "        [ 1.28859714e-01],\n",
       "        [-3.11044566e-02],\n",
       "        [ 7.75065273e-02],\n",
       "        [-6.58010840e-02],\n",
       "        [ 3.94764962e-03],\n",
       "        [-1.23236649e-01],\n",
       "        [ 2.17247405e-03],\n",
       "        [-3.23874466e-02],\n",
       "        [ 1.20096549e-01],\n",
       "        [ 2.09040567e-01],\n",
       "        [-1.24142075e+00],\n",
       "        [ 1.58729613e-01],\n",
       "        [ 1.32751226e-01],\n",
       "        [ 1.81663096e-01],\n",
       "        [-9.28371623e-02],\n",
       "        [-7.22230449e-02],\n",
       "        [-1.96266234e-01],\n",
       "        [-8.34460184e-02],\n",
       "        [ 2.06925631e-01],\n",
       "        [-1.72634706e-01],\n",
       "        [-7.72128031e-02],\n",
       "        [ 5.13813235e-02],\n",
       "        [ 2.06982017e-01],\n",
       "        [-1.92949682e-01],\n",
       "        [-2.16808662e-01],\n",
       "        [-1.87047198e-01],\n",
       "        [-1.73350409e-01],\n",
       "        [-9.97206196e-02],\n",
       "        [-2.24624738e-01],\n",
       "        [-2.10341260e-01],\n",
       "        [ 1.07874028e-01],\n",
       "        [ 1.13386355e-01],\n",
       "        [ 2.10335821e-01],\n",
       "        [ 1.69043206e-02],\n",
       "        [ 7.78418481e-01],\n",
       "        [-6.03523590e-02],\n",
       "        [-1.38581190e-02],\n",
       "        [-1.63763583e+00],\n",
       "        [-2.27333650e-01],\n",
       "        [ 2.05733299e-01],\n",
       "        [ 1.00554936e-01],\n",
       "        [-1.61696687e-01],\n",
       "        [ 6.68178201e-02],\n",
       "        [ 1.51632339e-01],\n",
       "        [ 1.89941078e-01],\n",
       "        [ 1.27659561e-02],\n",
       "        [ 1.94243923e-01],\n",
       "        [ 1.56202838e-01],\n",
       "        [-1.99482277e-01],\n",
       "        [-2.09076062e-01],\n",
       "        [-3.36189158e-02],\n",
       "        [ 1.81571081e-01],\n",
       "        [ 2.13469565e-01],\n",
       "        [ 3.13544460e-02],\n",
       "        [ 1.54901788e-01],\n",
       "        [ 6.10103570e-02],\n",
       "        [ 9.74756572e-03],\n",
       "        [ 1.11429787e+00],\n",
       "        [-2.00058013e-01],\n",
       "        [-1.70183152e-01],\n",
       "        [-2.42960620e+00],\n",
       "        [ 1.48113556e-02],\n",
       "        [-4.87349741e-03],\n",
       "        [ 2.22719073e-01],\n",
       "        [-1.21909671e-01],\n",
       "        [-1.71006963e-01],\n",
       "        [ 1.76202491e-01],\n",
       "        [ 7.94825405e-02],\n",
       "        [-5.41828610e-02],\n",
       "        [-1.32915020e-01],\n",
       "        [-1.53087527e-01],\n",
       "        [-3.61539386e-02],\n",
       "        [-4.36854474e-02]], dtype=float32),\n",
       " array([-0.8103452], dtype=float32)]"
      ]
     },
     "execution_count": 5,
     "metadata": {},
     "output_type": "execute_result"
    }
   ],
   "source": [
    "model.get_weights()"
   ]
  },
  {
   "cell_type": "code",
   "execution_count": 6,
   "metadata": {},
   "outputs": [],
   "source": [
    "# Step 2: Helper Functions\n",
    "# Function to decode reviews\n",
    "def decode_review(encoded_review):\n",
    "    return ' '.join([reverse_word_index.get(i - 3, '?') for i in encoded_review])\n",
    "\n",
    "# Function to preprocess user input\n",
    "def preprocess_text(text):\n",
    "    words = text.lower().split()\n",
    "    encoded_review = [word_index.get(word, 2) + 3 for word in words]\n",
    "    padded_review = sequence.pad_sequences([encoded_review], maxlen=500)\n",
    "    return padded_review"
   ]
  },
  {
   "cell_type": "code",
   "execution_count": 7,
   "metadata": {},
   "outputs": [],
   "source": [
    "### Prediction  function\n",
    "\n",
    "def predict_sentiment(review):\n",
    "    preprocessed_input=preprocess_text(review)\n",
    "\n",
    "    prediction=model.predict(preprocessed_input)\n",
    "\n",
    "    sentiment = 'Positive' if prediction[0][0] > 0.5 else 'Negative'\n",
    "    \n",
    "    return sentiment, prediction[0][0]\n",
    "\n"
   ]
  },
  {
   "cell_type": "code",
   "execution_count": 8,
   "metadata": {},
   "outputs": [
    {
     "name": "stdout",
     "output_type": "stream",
     "text": [
      "\u001b[1m1/1\u001b[0m \u001b[32m━━━━━━━━━━━━━━━━━━━━\u001b[0m\u001b[37m\u001b[0m \u001b[1m0s\u001b[0m 114ms/step\n",
      "Review: This movie was fantastic! The acting was great and the plot was thrilling.\n",
      "Sentiment: Positive\n",
      "Prediction Score: 0.9996358156204224\n"
     ]
    }
   ],
   "source": [
    "# Step 4: User Input and Prediction\n",
    "# Example review for prediction\n",
    "example_review = \"This movie was fantastic! The acting was great and the plot was thrilling.\"\n",
    "\n",
    "sentiment,score=predict_sentiment(example_review)\n",
    "\n",
    "print(f'Review: {example_review}')\n",
    "print(f'Sentiment: {sentiment}')\n",
    "print(f'Prediction Score: {score}')"
   ]
  },
  {
   "cell_type": "code",
   "execution_count": null,
   "metadata": {},
   "outputs": [],
   "source": []
  },
  {
   "cell_type": "code",
   "execution_count": null,
   "metadata": {},
   "outputs": [],
   "source": []
  },
  {
   "cell_type": "code",
   "execution_count": null,
   "metadata": {},
   "outputs": [],
   "source": []
  },
  {
   "cell_type": "code",
   "execution_count": null,
   "metadata": {},
   "outputs": [],
   "source": []
  }
 ],
 "metadata": {
  "kernelspec": {
   "display_name": "myenv",
   "language": "python",
   "name": "python3"
  },
  "language_info": {
   "codemirror_mode": {
    "name": "ipython",
    "version": 3
   },
   "file_extension": ".py",
   "mimetype": "text/x-python",
   "name": "python",
   "nbconvert_exporter": "python",
   "pygments_lexer": "ipython3",
   "version": "3.10.7"
  }
 },
 "nbformat": 4,
 "nbformat_minor": 2
}
